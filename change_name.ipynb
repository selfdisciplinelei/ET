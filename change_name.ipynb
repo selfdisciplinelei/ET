{
 "cells": [
  {
   "cell_type": "code",
   "execution_count": 2,
   "metadata": {},
   "outputs": [
    {
     "name": "stdout",
     "output_type": "stream",
     "text": [
      "13\n"
     ]
    }
   ],
   "source": [
    "import os\n",
    "import string\n",
    "path='/root/a_lilei/data/fake/'\n",
    "path1='/root/a_lilei/data/fake_white/'\n",
    "# for f in os.listdir(path):\n",
    "#     file=f.split('_',1)\n",
    "#     newname=file[0]\n",
    "#     os.rename(path+f,path+newname)\n",
    "count=0\n",
    "for f in os.listdir(path):\n",
    "    count+=1\n",
    "    newname=f[0]+str(count)+'.jpg'\n",
    "    os.rename(path+f,path1+newname)\n",
    "print(count)\n",
    "#     f.insert(f[1],'_')\n",
    "#     f[1]=str('_')+f[1]\n",
    "# count=45\n",
    "# for f in os.listdir(path):\n",
    "#     s=f[0]\n",
    "#     if u'\\u4e00' <=s<=u'\\u9fff':\n",
    "#         count+=1\n",
    "#         newname=s+str(count)+'.jpg'\n",
    "#         os.rename(path+f,path+newname)"
   ]
  },
  {
   "cell_type": "code",
   "execution_count": null,
   "metadata": {},
   "outputs": [],
   "source": []
  },
  {
   "cell_type": "code",
   "execution_count": null,
   "metadata": {},
   "outputs": [],
   "source": []
  }
 ],
 "metadata": {
  "kernelspec": {
   "display_name": "Python 3",
   "language": "python",
   "name": "python3"
  },
  "language_info": {
   "codemirror_mode": {
    "name": "ipython",
    "version": 3
   },
   "file_extension": ".py",
   "mimetype": "text/x-python",
   "name": "python",
   "nbconvert_exporter": "python",
   "pygments_lexer": "ipython3",
   "version": "3.6.8"
  }
 },
 "nbformat": 4,
 "nbformat_minor": 2
}
