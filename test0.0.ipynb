{
 "cells": [
  {
   "cell_type": "code",
   "execution_count": null,
   "metadata": {},
   "outputs": [],
   "source": [
    "def color(value):\n",
    "    digit = list(map(str, range(10))) + list(\"ABCDEF\")\n",
    "    if isinstance(value, tuple):\n",
    "        string = '#'\n",
    "        for i in value:\n",
    "            a1 = i // 16\n",
    "            a2 = i % 16\n",
    "            string += digit[a1] + digit[a2]\n",
    "        return string\n",
    "    elif isinstance(value, str):\n",
    "        a1 = digit.index(value[1]) * 16 + digit.index(value[2])\n",
    "        a2 = digit.index(value[3]) * 16 + digit.index(value[4])\n",
    "        a3 = digit.index(value[5]) * 16 + digit.index(value[6])\n",
    "        return (a1, a2, a3)\n",
    "\n",
    "f = open('./rgbname.txt').readlines()\n",
    "rgb = {}\n",
    "for i in f :\n",
    "    s = i.replace(\"\\r\\n\",'').split(\"\\t\")\n",
    "    rgb[s[2].strip()]=s[0]\n",
    "\n",
    "\n",
    "from PIL import Image\n",
    "image = Image.open(\"./Sample_1/红21.jpg_红54.jpg\")\n",
    "a = image.getcolors(55555)\n",
    "b = sorted(a, reverse = True)\n",
    "\n",
    "result = {}\n",
    "count = 0\n",
    "for i in b:\n",
    "    rgbsum = i[1][0] + i[1][1] + i[1][2]\n",
    "    minn = -1\n",
    "    for r1 in rgb:\n",
    "        s1 = list(map(int, r1.strip().split(',')))\n",
    "        rgb1 = abs(i[1][0] - s1[0])\n",
    "        rgb2 = abs(i[1][1] - s1[1])\n",
    "        rgb3 = abs(i[1][2] - s1[2])\n",
    "        if rgb1 < 50 and rgb2 < 50 and rgb3 < 50:\n",
    "            rgbsum2 = abs(s1[0] + s1[1] + s1[2] - rgbsum)\n",
    "            result[rgbsum2] = rgb[r1]\n",
    "            if minn == -1:\n",
    "                minn = rgbsum2\n",
    "            else:\n",
    "                if minn > rgbsum2:\n",
    "                    minn = rgbsum2\n",
    "    print(count,i[0],i[1],color((i[1])),result[minn])\n",
    "    result.clear()\n",
    "    count += 1\n",
    "    if count == 100 :\n",
    "        break"
   ]
  }
 ],
 "metadata": {
  "kernelspec": {
   "display_name": "Python 3",
   "language": "python",
   "name": "python3"
  },
  "language_info": {
   "codemirror_mode": {
    "name": "ipython",
    "version": 3
   },
   "file_extension": ".py",
   "mimetype": "text/x-python",
   "name": "python",
   "nbconvert_exporter": "python",
   "pygments_lexer": "ipython3",
   "version": "3.6.8"
  }
 },
 "nbformat": 4,
 "nbformat_minor": 2
}
