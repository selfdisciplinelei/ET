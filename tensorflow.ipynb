{
 "cells": [
  {
   "cell_type": "code",
   "execution_count": 3,
   "metadata": {},
   "outputs": [
    {
     "name": "stdout",
     "output_type": "stream",
     "text": [
      "[[5. 5.]\n",
      " [5. 5.]\n",
      " [5. 5.]]\n",
      "[[4. 4. 4.]\n",
      " [4. 4. 4.]]\n",
      "[[40. 40. 40.]\n",
      " [40. 40. 40.]\n",
      " [40. 40. 40.]]\n"
     ]
    }
   ],
   "source": [
    "import tensorflow as tf\n",
    "a=tf.Variable(tf.ones([3,2]))\n",
    "b=tf.Variable(tf.ones([2,3]))\n",
    "product=tf.matmul(5*a,4*b)\n",
    "init=tf.initialize_all_variables()\n",
    "with tf.Session() as sess:\n",
    "    sess.run(init)\n",
    "    print(sess.run(5*a))\n",
    "    print(sess.run(4*b))\n",
    "    print(sess.run(product))"
   ]
  },
  {
   "cell_type": "code",
   "execution_count": null,
   "metadata": {},
   "outputs": [],
   "source": [
    "\n",
    "x=tf.placeholder(tf.float32,[None,784])\n",
    "y_actual=tf.placeholder(tf.float32,shape=[None,10])\n",
    "W=tf.Variable(tf.zeros([784,10]))  #初始化权重\n",
    "b=tf.Variable(tf.zeros([10]))      #初始化偏置项b\n",
    "y_predict=tf.nn.softmax(tf.matmul(x,W)+b)   #加权变换进行softmax回归，得到预测概率\n",
    "cross_entropy=tf.reduce_mean(-tf.reduce_sum(y_actual*tf.log(y_predict),reduction_indies=1)) #求交叉熵\n",
    "train_step=tf.train.GradientDescentOptimizer(0.01).minimize(cross_entropy)  #用梯度下降法使得残差最小\n",
    "correct_prediction=tf.equal(tf.argmax(y_predict,1),tf.argmax(y_actual,1)) #在测试阶段，测试准确度计算\n",
    "accuracy=tf.reduce_mean(tf.cast(correct_prediction,\"float\"))  #多个批次的准确度均值\n",
    "init=tf.initialize_all_variables()\n",
    "with tf.Session() as sess:\n",
    "    sess.run(init)\n",
    "    for i in range(1000):            #训练阶段，迭代1000次\n",
    "        batch_xs,batch_ys=mnist.train.next_batch(100)    #按批次训练，每批100行数据\n",
    "        sess.run(train_step,feed_dict={x:batch_xs,y_actual:batch_ys})   #执行训练\n",
    "        if (i%100==0):           #每训练100次，测试一次\n",
    "            print (\"accuracy:\",sess.run(accuracy,feed_dict={x:mnist.test.images,y_actual:mnist.test.labels}))\n",
    "\n"
   ]
  },
  {
   "cell_type": "code",
   "execution_count": null,
   "metadata": {},
   "outputs": [
    {
     "name": "stdout",
     "output_type": "stream",
     "text": [
      "Successfully downloaded train-images-idx3-ubyte.gz 9912422 bytes.\n",
      "WARNING:tensorflow:From /root/anaconda3/lib/python3.6/site-packages/tensorflow/contrib/learn/python/learn/datasets/mnist.py:262: extract_images (from tensorflow.contrib.learn.python.learn.datasets.mnist) is deprecated and will be removed in a future version.\n",
      "Instructions for updating:\n",
      "Please use tf.data to implement this functionality.\n",
      "Extracting MNIST_data/train-images-idx3-ubyte.gz\n",
      "Successfully downloaded train-labels-idx1-ubyte.gz 28881 bytes.\n",
      "WARNING:tensorflow:From /root/anaconda3/lib/python3.6/site-packages/tensorflow/contrib/learn/python/learn/datasets/mnist.py:267: extract_labels (from tensorflow.contrib.learn.python.learn.datasets.mnist) is deprecated and will be removed in a future version.\n",
      "Instructions for updating:\n",
      "Please use tf.data to implement this functionality.\n",
      "Extracting MNIST_data/train-labels-idx1-ubyte.gz\n",
      "WARNING:tensorflow:From /root/anaconda3/lib/python3.6/site-packages/tensorflow/contrib/learn/python/learn/datasets/mnist.py:110: dense_to_one_hot (from tensorflow.contrib.learn.python.learn.datasets.mnist) is deprecated and will be removed in a future version.\n",
      "Instructions for updating:\n",
      "Please use tf.one_hot on tensors.\n"
     ]
    }
   ],
   "source": [
    "import tensorflow.examples.tutorials.mnist.input_data as input_data\n",
    "mnist=input_data.read_data_sets(\"MNIST_data/\",one_hot=True)"
   ]
  },
  {
   "cell_type": "code",
   "execution_count": null,
   "metadata": {},
   "outputs": [],
   "source": []
  }
 ],
 "metadata": {
  "kernelspec": {
   "display_name": "Python 3",
   "language": "python",
   "name": "python3"
  },
  "language_info": {
   "codemirror_mode": {
    "name": "ipython",
    "version": 3
   },
   "file_extension": ".py",
   "mimetype": "text/x-python",
   "name": "python",
   "nbconvert_exporter": "python",
   "pygments_lexer": "ipython3",
   "version": "3.6.8"
  }
 },
 "nbformat": 4,
 "nbformat_minor": 2
}
